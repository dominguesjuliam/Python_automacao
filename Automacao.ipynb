{
 "cells": [
  {
   "cell_type": "code",
   "execution_count": 2,
   "metadata": {},
   "outputs": [],
   "source": [
    "import pyautogui\n",
    "import time\n",
    "import pyperclip"
   ]
  },
  {
   "cell_type": "code",
   "execution_count": 13,
   "metadata": {
    "scrolled": true
   },
   "outputs": [
    {
     "data": {
      "text/plain": [
       "'OK'"
      ]
     },
     "execution_count": 13,
     "metadata": {},
     "output_type": "execute_result"
    }
   ],
   "source": [
    "pyautogui.PAUSE = 1\n",
    "pyautogui.alert(\"Vai começar, aperte OK e não mexa em nada\")\n",
    "#pyautogui.press(\"win\")\n",
    "#pyautogui.write(\"chrome\")\n",
    "#pyautogui.press(\"enter\")\n",
    "time.sleep(1)\n",
    "pyautogui.hotkey('ctrl', 't')\n",
    "link = \"http://mail.google.com/\"\n",
    "pyautogui.write(link)\n",
    "pyautogui.press(\"enter\")\n",
    "time.sleep(5)\n",
    "pyautogui.click(54,264)\n",
    "time.sleep(3)\n",
    "email = \"dominguesjuliam+teste@gmail.com\"\n",
    "pyautogui.write(email)\n",
    "pyautogui.press(\"tab\")\n",
    "pyautogui.press(\"tab\")\n",
    "assunto = \"Teste de automação\"\n",
    "pyperclip.copy(assunto)\n",
    "pyautogui.hotkey('Ctrl','v')\n",
    "pyautogui.press(\"tab\")\n",
    "corpo = \"\"\"\n",
    "Olá,\n",
    "\n",
    "Enviando email de teste.\n",
    "\n",
    "Abraços,\n",
    "Júlia Medeiros Domingues\n",
    "\"\"\"\n",
    "pyperclip.copy(corpo)\n",
    "pyautogui.hotkey('Ctrl','v')\n",
    "pyautogui.hotkey('Ctrl','Enter')\n",
    "pyautogui.alert(\"Fim da Automação. Seu computador já voltou a ser seu\")\n"
   ]
  },
  {
   "cell_type": "markdown",
   "metadata": {},
   "source": []
  },
  {
   "cell_type": "markdown",
   "metadata": {},
   "source": [
    "time.sleep(5)\n",
    "pyautogui.position()"
   ]
  }
 ],
 "metadata": {
  "kernelspec": {
   "display_name": "Python 3",
   "language": "python",
   "name": "python3"
  },
  "language_info": {
   "codemirror_mode": {
    "name": "ipython",
    "version": 3
   },
   "file_extension": ".py",
   "mimetype": "text/x-python",
   "name": "python",
   "nbconvert_exporter": "python",
   "pygments_lexer": "ipython3",
   "version": "3.8.5"
  }
 },
 "nbformat": 4,
 "nbformat_minor": 4
}
